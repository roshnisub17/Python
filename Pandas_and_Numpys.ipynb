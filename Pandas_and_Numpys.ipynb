{
  "nbformat": 4,
  "nbformat_minor": 0,
  "metadata": {
    "colab": {
      "provenance": [],
      "mount_file_id": "1AzkGN_7MSxAOpJbPIGuTlzpYLtjHZvb5",
      "authorship_tag": "ABX9TyPx+FLRK7Qb7SUz1FJ8nl3z",
      "include_colab_link": true
    },
    "kernelspec": {
      "name": "python3",
      "display_name": "Python 3"
    },
    "language_info": {
      "name": "python"
    }
  },
  "cells": [
    {
      "cell_type": "markdown",
      "metadata": {
        "id": "view-in-github",
        "colab_type": "text"
      },
      "source": [
        "<a href=\"https://colab.research.google.com/github/roshnisub17/Python/blob/main/Pandas_and_Numpys.ipynb\" target=\"_parent\"><img src=\"https://colab.research.google.com/assets/colab-badge.svg\" alt=\"Open In Colab\"/></a>"
      ]
    },
    {
      "cell_type": "markdown",
      "source": [
        "#Pandas"
      ],
      "metadata": {
        "id": "K9itvubWsHHR"
      }
    },
    {
      "cell_type": "markdown",
      "source": [
        "1. Print all your columns names."
      ],
      "metadata": {
        "id": "dwxabcCasDRl"
      }
    },
    {
      "cell_type": "code",
      "source": [
        "import pandas as pd\n",
        "\n",
        "\n",
        "file_path = '/content/Roshni_Cars.xlsx'\n",
        "\n",
        "#Reading the Excel file into a DataFrame\n",
        "df = pd.read_excel(file_path)\n",
        "\n",
        "#Printing the column names\n",
        "column_names = df.columns\n",
        "print(column_names)\n"
      ],
      "metadata": {
        "id": "0UmiDd9VrIXi"
      },
      "execution_count": null,
      "outputs": []
    },
    {
      "cell_type": "markdown",
      "source": [
        "2. Apply boolean indexing to a column of your choice."
      ],
      "metadata": {
        "id": "PdKMxXcorUhX"
      }
    },
    {
      "cell_type": "code",
      "source": [
        "import pandas as pd\n",
        "\n",
        "\n",
        "file_path = '/content/Roshni_Cars.xlsx'\n",
        "\n",
        "# Loading the \"CarModels\" sheet of the Excel file into a DataFrame\n",
        "df = pd.read_excel(file_path, sheet_name='CarModels')\n",
        "\n",
        "# Accessing the sixth column, which is \"Gear Type\"\n",
        "sixth_column = df.iloc[:, 5]  # Assuming it's the 6th column (0-based indexing)\n",
        "\n",
        "# Creating a boolean condition based on \"Gear Type\"\n",
        "boolean_condition = sixth_column == \"Automatic Gear\"\n",
        "\n",
        "# Applying the boolean condition to filter the DataFrame\n",
        "filtered_df = df[boolean_condition]\n",
        "\n",
        "# Printing the resulting DataFrame\n",
        "print(filtered_df)\n"
      ],
      "metadata": {
        "id": "Z-NpO9v8uC0H"
      },
      "execution_count": null,
      "outputs": []
    },
    {
      "cell_type": "markdown",
      "source": [
        "3. Create at least four filters to find interesting information about your data.\n",
        "For example, if I had a list of all the items purchased in a grocery store within a day and I wanted to find all purchases including milk. I would filter my dataframe to access all purchases containing milk.\n",
        "Explain all your findings.\n"
      ],
      "metadata": {
        "id": "elt-Ub44wBqc"
      }
    },
    {
      "cell_type": "markdown",
      "source": [
        "3.b From the second sheet \"Car Models\", I am first filtering column B Brand for \"Mercedes\". My second filter would be column C Model for \"CLA\". My third filter would be the year \"2019\" from column D and my fourth filter is from column F shiftype which I chose \"Semi-Automatic Gear\""
      ],
      "metadata": {
        "id": "hLYqi38XwMnb"
      }
    },
    {
      "cell_type": "code",
      "source": [
        "import pandas as pd\n",
        "\n",
        "\n",
        "file_path = '/content/Roshni_Cars.xlsx'\n",
        "\n",
        "\n",
        "df = pd.read_excel(file_path, sheet_name='CarModels')\n",
        "\n",
        "# Defining the filter conditions\n",
        "brand_condition = df['BRAND'] == \"Mercedes\"\n",
        "model_condition = df['MODEL'] == \"CLA\"\n",
        "year_condition = df['YEAR_'] == 2019\n",
        "shift_type_condition = df['SHIFTTYPE'] == \"Semi-Automatic Gear\"\n",
        "\n",
        "# Combining the conditions using the &  operator to create a final filter\n",
        "My_data = brand_condition & model_condition & year_condition & shift_type_condition\n",
        "\n",
        "# Applying the final filter to get the one item that matches all conditions\n",
        "My_data = df[My_data]\n",
        "\n",
        "# Printing the finalized item\n",
        "print(My_data)\n"
      ],
      "metadata": {
        "id": "DIkSmCs3zRX1"
      },
      "execution_count": null,
      "outputs": []
    },
    {
      "cell_type": "markdown",
      "source": [
        "From the filter I applied, the item which i finalized has an ID 3719. The fuel is Gasolina, with a motorvolume 1301-1600 cc, a Casetype Sport/Coupe and a variant Mercedes CLA 200 AMG."
      ],
      "metadata": {
        "id": "hxTWh1jy14yo"
      }
    },
    {
      "cell_type": "markdown",
      "source": [
        "4. In the summary section of the Pandas Cheat Sheet there are various methods. Apply at least three to the numerical columns of your data."
      ],
      "metadata": {
        "id": "keDsLLov2YZN"
      }
    },
    {
      "cell_type": "code",
      "source": [
        "#sum of values\n",
        "\n",
        "import pandas as pd\n",
        "\n",
        "\n",
        "file_path = '/content/Roshni_Cars.xlsx'\n",
        "\n",
        "\n",
        "df = pd.read_excel(file_path, sheet_name='CarModels')\n",
        "\n",
        "# Calculate the sum of values in the first column (column index 0)\n",
        "sum_of_column_1 = df.iloc[:, 0].sum()\n",
        "\n",
        "# Print the sum\n",
        "print(\"Sum of values in column 1:\", sum_of_column_1)\n"
      ],
      "metadata": {
        "id": "ZrMJJufGeKJI"
      },
      "execution_count": null,
      "outputs": []
    },
    {
      "cell_type": "code",
      "source": [
        "#Minimum value\n",
        "#I want to know the oldest year available in inventory\n",
        "\n",
        "\n",
        "\n",
        "import pandas as pd\n",
        "\n",
        "\n",
        "file_path = '/content/Roshni_Cars.xlsx'\n",
        "\n",
        "\n",
        "df = pd.read_excel(file_path, sheet_name='CarModels')\n",
        "\n",
        "# Finding the minimum value in the fourth column (column index 3)\n",
        "min_value_of_column_4 = df.iloc[:, 3].min()\n",
        "\n",
        "# Print the minimum value\n",
        "print(\"Minimum value in column 4:\", min_value_of_column_4)\n",
        "\n",
        "\n"
      ],
      "metadata": {
        "id": "ZrzGx90QfBQu"
      },
      "execution_count": null,
      "outputs": []
    },
    {
      "cell_type": "code",
      "source": [
        "#I want to know the average year of cars available.\n",
        "#Mean\n",
        "\n",
        "import pandas as pd\n",
        "\n",
        "\n",
        "file_path = '/content/Roshni_Cars.xlsx'\n",
        "\n",
        "\n",
        "df = pd.read_excel(file_path, sheet_name='CarModels')\n",
        "\n",
        "# Calculating the mean of values in the fourth column (column index 3)\n",
        "mean_of_column_4 = df.iloc[:, 3].mean()\n",
        "\n",
        "# Print the mean\n",
        "print(\"Mean of values in column 4:\", mean_of_column_4)\n"
      ],
      "metadata": {
        "id": "QLmK1Ikvf99P"
      },
      "execution_count": null,
      "outputs": []
    },
    {
      "cell_type": "markdown",
      "source": [
        "#Numpy"
      ],
      "metadata": {
        "id": "RDSY2_y7gstc"
      }
    },
    {
      "cell_type": "markdown",
      "source": [
        "1. Extract all numerical columns from your data frame and contatenate them to create a ndarray."
      ],
      "metadata": {
        "id": "nmIiQSg_gw5q"
      }
    },
    {
      "cell_type": "code",
      "source": [
        "import pandas as pd\n",
        "import numpy as np\n",
        "\n",
        "\n",
        "file_path = '/content/Roshni_Cars.xlsx'\n",
        "\n",
        "\n",
        "df = pd.read_excel(file_path, sheet_name='CarModels')\n",
        "\n",
        "# Select and extract numerical columns (excluding non-numeric columns)\n",
        "numerical_columns = df.select_dtypes(include=[np.number])\n",
        "\n",
        "# Convert the selected columns to a NumPy ndarray\n",
        "numerical_data_array = numerical_columns.to_numpy()\n",
        "\n",
        "# Print the resulting NumPy ndarray\n",
        "print(numerical_data_array)\n"
      ],
      "metadata": {
        "id": "a52jelVMgvzM"
      },
      "execution_count": null,
      "outputs": []
    },
    {
      "cell_type": "markdown",
      "source": [
        "2. Using numpy syntax and mathematical equations ONLY; calculate the mean, median, mode, average, and standard deviation of each numerical data column."
      ],
      "metadata": {
        "id": "mQnCoeh6hlW5"
      }
    },
    {
      "cell_type": "code",
      "source": [
        "\n",
        "#Using column one, which is \"ID\" and column four which is \"YEAR_\" for these mathematical equations, since these columns only are fully numerical. Others include some non-numerical elements.\n",
        "#Also, I am using the sheet CAR Models of the from Excel sheet dataset I was asssigned to.\n",
        "\n",
        "\n",
        "import pandas as pd\n",
        "import numpy as np\n",
        "\n",
        "\n",
        "file_path = '/content/Roshni_Cars.xlsx'\n",
        "\n",
        "\n",
        "df = pd.read_excel(file_path, sheet_name='CarModels')\n",
        "\n",
        "# Extracting data from columns \"ID\" (column 1) and \"YEAR_\" (column 4)\n",
        "id_data = df['ID'].to_numpy()\n",
        "year_data = df['YEAR_'].to_numpy()\n",
        "\n",
        "# Calculating statistics for each column using NumPy\n",
        "\n",
        "# Mean\n",
        "mean_id = np.mean(id_data)\n",
        "mean_year = np.mean(year_data)\n",
        "\n",
        "# Median\n",
        "median_id = np.median(id_data)\n",
        "median_year = np.median(year_data)\n",
        "\n",
        "# Mode (Please note that NumPy doesn't provide a direct mode function; you can use other libraries like SciPy for mode.)\n",
        "mode_id = np.nan\n",
        "mode_year = np.nan\n",
        "\n",
        "# Average (Mean and Median are already calculated as the average above)\n",
        "\n",
        "# Standard Deviation\n",
        "std_id = np.std(id_data)\n",
        "std_year = np.std(year_data)\n",
        "\n",
        "# Printing the calculated statistics\n",
        "print(\"Statistics for Column 'ID':\")\n",
        "print(f\"Mean: {mean_id}\")\n",
        "print(f\"Median: {median_id}\")\n",
        "print(f\"Mode: {mode_id}\")\n",
        "print(f\"Standard Deviation: {std_id}\")\n",
        "\n",
        "print(\"\\nStatistics for Column 'YEAR_':\")\n",
        "print(f\"Mean: {mean_year}\")\n",
        "print(f\"Median: {median_year}\")\n",
        "print(f\"Mode: {mode_year}\")\n",
        "print(f\"Standard Deviation: {std_year}\")\n"
      ],
      "metadata": {
        "id": "kEd-L4e9u28F"
      },
      "execution_count": null,
      "outputs": []
    }
  ]
}